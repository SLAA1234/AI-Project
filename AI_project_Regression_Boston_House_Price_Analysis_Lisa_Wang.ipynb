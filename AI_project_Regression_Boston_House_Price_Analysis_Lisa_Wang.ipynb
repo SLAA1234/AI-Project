{
  "nbformat": 4,
  "nbformat_minor": 0,
  "metadata": {
    "colab": {
      "name": "AI project Regression Boston_House_Price_Analysis Lisa Wang.ipynb",
      "provenance": [],
      "collapsed_sections": [],
      "authorship_tag": "ABX9TyN7oGyOS9aJGMv8Ba9Lwcv5",
      "include_colab_link": true
    },
    "kernelspec": {
      "name": "python3",
      "display_name": "Python 3"
    }
  },
  "cells": [
    {
      "cell_type": "markdown",
      "metadata": {
        "id": "view-in-github",
        "colab_type": "text"
      },
      "source": [
        "<a href=\"https://colab.research.google.com/github/SLAA1234/AI-Project/blob/master/AI_project_Regression_Boston_House_Price_Analysis_Lisa_Wang.ipynb\" target=\"_parent\"><img src=\"https://colab.research.google.com/assets/colab-badge.svg\" alt=\"Open In Colab\"/></a>"
      ]
    },
    {
      "cell_type": "markdown",
      "metadata": {
        "id": "drrCBazXBZX5",
        "colab_type": "text"
      },
      "source": [
        "# Regression\n",
        "\n",
        "In this project I create models to analyze the relations between Boston's house price and the other 13 influential factors. The results shows both linear regression and ANN models works good on explaining the difference of house prices.\n",
        "\n",
        "At the end I compare the the performaces of the two models, and explain the factors that affect the preformance of ANN model based on the practice.\n",
        "\n",
        "The dataset I download from Kaggle, https://www.kaggle.com/vikrishnan/boston-house-prices. The dataset includes 506 cases, each cases include 14 attributes, which are listed in Prepare Data section. \n"
      ]
    },
    {
      "cell_type": "markdown",
      "metadata": {
        "id": "sJdej2ePBg__",
        "colab_type": "text"
      },
      "source": [
        "# Import Necessary Libraries"
      ]
    },
    {
      "cell_type": "code",
      "metadata": {
        "id": "NIVQbnG-_TRe",
        "colab_type": "code",
        "colab": {}
      },
      "source": [
        "import pandas as pd\n",
        "import tensorflow as tf\n",
        "from tensorflow import keras\n",
        "import numpy as np\n",
        "import matplotlib.pyplot as plt\n",
        "\n",
        "from sklearn.model_selection import train_test_split\n",
        "from sklearn.linear_model import LinearRegression\n",
        "from sklearn.metrics import mean_squared_error\n",
        "from sklearn.metrics import r2_score\n",
        "from sklearn.preprocessing import StandardScaler"
      ],
      "execution_count": 32,
      "outputs": []
    },
    {
      "cell_type": "markdown",
      "metadata": {
        "id": "oxK2mVfMCV1w",
        "colab_type": "text"
      },
      "source": [
        "# Prepare Data"
      ]
    },
    {
      "cell_type": "markdown",
      "metadata": {
        "id": "J6K7ZbgsCZHX",
        "colab_type": "text"
      },
      "source": [
        "### Load data"
      ]
    },
    {
      "cell_type": "code",
      "metadata": {
        "id": "6oB-1TsUU-fC",
        "colab_type": "code",
        "colab": {
          "resources": {
            "http://localhost:8080/nbextensions/google.colab/files.js": {
              "data": "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",
              "ok": true,
              "headers": [
                [
                  "content-type",
                  "application/javascript"
                ]
              ],
              "status": 200,
              "status_text": ""
            }
          },
          "base_uri": "https://localhost:8080/",
          "height": 73
        },
        "outputId": "ee284690-8bf9-4c54-f80b-e0bcc7661cb1"
      },
      "source": [
        "# upload local csv file to colab\n",
        "\n",
        "from google.colab import  files\n",
        "\n",
        "uploaded = files.upload()"
      ],
      "execution_count": 33,
      "outputs": [
        {
          "output_type": "display_data",
          "data": {
            "text/html": [
              "\n",
              "     <input type=\"file\" id=\"files-7b67d744-db86-4c13-9673-63c2fcf629a6\" name=\"files[]\" multiple disabled\n",
              "        style=\"border:none\" />\n",
              "     <output id=\"result-7b67d744-db86-4c13-9673-63c2fcf629a6\">\n",
              "      Upload widget is only available when the cell has been executed in the\n",
              "      current browser session. Please rerun this cell to enable.\n",
              "      </output>\n",
              "      <script src=\"/nbextensions/google.colab/files.js\"></script> "
            ],
            "text/plain": [
              "<IPython.core.display.HTML object>"
            ]
          },
          "metadata": {
            "tags": []
          }
        },
        {
          "output_type": "stream",
          "text": [
            "Saving housing.csv to housing (1).csv\n"
          ],
          "name": "stdout"
        }
      ]
    },
    {
      "cell_type": "code",
      "metadata": {
        "id": "OTtd_lZqY7LS",
        "colab_type": "code",
        "colab": {}
      },
      "source": [
        "# import data into a dataframe\n",
        "\n",
        "import io\n",
        "\n",
        "column_names = ['CRIM', 'ZN', 'INDUS', 'CHAS', 'NOX', 'RM', 'AGE', 'DIS', 'RAD', 'TAX', 'PTRATIO', 'BK', 'LSTAT', 'MEDV']\n",
        "\n",
        "df = pd.read_csv(io.BytesIO(uploaded['housing.csv']), names=column_names, na_values = \"?\", comment='\\t',\n",
        "                      sep=\" \", skipinitialspace=True)"
      ],
      "execution_count": 34,
      "outputs": []
    },
    {
      "cell_type": "code",
      "metadata": {
        "id": "jgBwAnECZNjE",
        "colab_type": "code",
        "colab": {
          "base_uri": "https://localhost:8080/",
          "height": 202
        },
        "outputId": "f39a1590-7697-4ad6-a54c-27cad40b0c58"
      },
      "source": [
        "# check what the data looks like\n",
        "\n",
        "df.head(5)"
      ],
      "execution_count": 35,
      "outputs": [
        {
          "output_type": "execute_result",
          "data": {
            "text/html": [
              "<div>\n",
              "<style scoped>\n",
              "    .dataframe tbody tr th:only-of-type {\n",
              "        vertical-align: middle;\n",
              "    }\n",
              "\n",
              "    .dataframe tbody tr th {\n",
              "        vertical-align: top;\n",
              "    }\n",
              "\n",
              "    .dataframe thead th {\n",
              "        text-align: right;\n",
              "    }\n",
              "</style>\n",
              "<table border=\"1\" class=\"dataframe\">\n",
              "  <thead>\n",
              "    <tr style=\"text-align: right;\">\n",
              "      <th></th>\n",
              "      <th>CRIM</th>\n",
              "      <th>ZN</th>\n",
              "      <th>INDUS</th>\n",
              "      <th>CHAS</th>\n",
              "      <th>NOX</th>\n",
              "      <th>RM</th>\n",
              "      <th>AGE</th>\n",
              "      <th>DIS</th>\n",
              "      <th>RAD</th>\n",
              "      <th>TAX</th>\n",
              "      <th>PTRATIO</th>\n",
              "      <th>BK</th>\n",
              "      <th>LSTAT</th>\n",
              "      <th>MEDV</th>\n",
              "    </tr>\n",
              "  </thead>\n",
              "  <tbody>\n",
              "    <tr>\n",
              "      <th>0</th>\n",
              "      <td>0.00632</td>\n",
              "      <td>18.0</td>\n",
              "      <td>2.31</td>\n",
              "      <td>0</td>\n",
              "      <td>0.538</td>\n",
              "      <td>6.575</td>\n",
              "      <td>65.2</td>\n",
              "      <td>4.0900</td>\n",
              "      <td>1</td>\n",
              "      <td>296.0</td>\n",
              "      <td>15.3</td>\n",
              "      <td>396.90</td>\n",
              "      <td>4.98</td>\n",
              "      <td>24.0</td>\n",
              "    </tr>\n",
              "    <tr>\n",
              "      <th>1</th>\n",
              "      <td>0.02731</td>\n",
              "      <td>0.0</td>\n",
              "      <td>7.07</td>\n",
              "      <td>0</td>\n",
              "      <td>0.469</td>\n",
              "      <td>6.421</td>\n",
              "      <td>78.9</td>\n",
              "      <td>4.9671</td>\n",
              "      <td>2</td>\n",
              "      <td>242.0</td>\n",
              "      <td>17.8</td>\n",
              "      <td>396.90</td>\n",
              "      <td>9.14</td>\n",
              "      <td>21.6</td>\n",
              "    </tr>\n",
              "    <tr>\n",
              "      <th>2</th>\n",
              "      <td>0.02729</td>\n",
              "      <td>0.0</td>\n",
              "      <td>7.07</td>\n",
              "      <td>0</td>\n",
              "      <td>0.469</td>\n",
              "      <td>7.185</td>\n",
              "      <td>61.1</td>\n",
              "      <td>4.9671</td>\n",
              "      <td>2</td>\n",
              "      <td>242.0</td>\n",
              "      <td>17.8</td>\n",
              "      <td>392.83</td>\n",
              "      <td>4.03</td>\n",
              "      <td>34.7</td>\n",
              "    </tr>\n",
              "    <tr>\n",
              "      <th>3</th>\n",
              "      <td>0.03237</td>\n",
              "      <td>0.0</td>\n",
              "      <td>2.18</td>\n",
              "      <td>0</td>\n",
              "      <td>0.458</td>\n",
              "      <td>6.998</td>\n",
              "      <td>45.8</td>\n",
              "      <td>6.0622</td>\n",
              "      <td>3</td>\n",
              "      <td>222.0</td>\n",
              "      <td>18.7</td>\n",
              "      <td>394.63</td>\n",
              "      <td>2.94</td>\n",
              "      <td>33.4</td>\n",
              "    </tr>\n",
              "    <tr>\n",
              "      <th>4</th>\n",
              "      <td>0.06905</td>\n",
              "      <td>0.0</td>\n",
              "      <td>2.18</td>\n",
              "      <td>0</td>\n",
              "      <td>0.458</td>\n",
              "      <td>7.147</td>\n",
              "      <td>54.2</td>\n",
              "      <td>6.0622</td>\n",
              "      <td>3</td>\n",
              "      <td>222.0</td>\n",
              "      <td>18.7</td>\n",
              "      <td>396.90</td>\n",
              "      <td>5.33</td>\n",
              "      <td>36.2</td>\n",
              "    </tr>\n",
              "  </tbody>\n",
              "</table>\n",
              "</div>"
            ],
            "text/plain": [
              "      CRIM    ZN  INDUS  CHAS    NOX  ...    TAX  PTRATIO      BK  LSTAT  MEDV\n",
              "0  0.00632  18.0   2.31     0  0.538  ...  296.0     15.3  396.90   4.98  24.0\n",
              "1  0.02731   0.0   7.07     0  0.469  ...  242.0     17.8  396.90   9.14  21.6\n",
              "2  0.02729   0.0   7.07     0  0.469  ...  242.0     17.8  392.83   4.03  34.7\n",
              "3  0.03237   0.0   2.18     0  0.458  ...  222.0     18.7  394.63   2.94  33.4\n",
              "4  0.06905   0.0   2.18     0  0.458  ...  222.0     18.7  396.90   5.33  36.2\n",
              "\n",
              "[5 rows x 14 columns]"
            ]
          },
          "metadata": {
            "tags": []
          },
          "execution_count": 35
        }
      ]
    },
    {
      "cell_type": "markdown",
      "metadata": {
        "id": "Y1SoS7PCbOyc",
        "colab_type": "text"
      },
      "source": [
        "**Data Attributes:**\n",
        "\n",
        "0. CRIM: per capita crime rate by town\n",
        "1. ZN: proportion of residential land zoned for lots over 25,000 sq.ft.\n",
        "2. INDUS: proportion of non-retail business acres per town\n",
        "3. CHAS: Charles River dummy variable (= 1 if tract bounds river; 0 otherwise)\n",
        "4. NOX: nitric oxides concentration (parts per 10 million)\n",
        "5. RM: average number of rooms per dwelling\n",
        "6. AGE: proportion of owner-occupied units built prior to 1940\n",
        "7. DIS: weighted distances to \fve Boston employment centers\n",
        "8. RAD: index of accessibility to radial highways\n",
        "9. TAX: full-value property-tax rate per USD 10,000\n",
        "10. PTRATIO: pupil-teacher ratio by town\n",
        "11. Bk: 1000(Bk - 0:63)^2 where Bk is the proportion of blacks by town\n",
        "12. LSTAT: % lower status of the population\n",
        "13. MEDV: Median value of owner-occupied homes in USD 1000s"
      ]
    },
    {
      "cell_type": "code",
      "metadata": {
        "id": "wHlbg9OufwyU",
        "colab_type": "code",
        "colab": {
          "base_uri": "https://localhost:8080/",
          "height": 277
        },
        "outputId": "7ca3e703-24a4-46eb-e331-76d642884ce6"
      },
      "source": [
        "# check if there is NaN values\n",
        "df.isna().sum()"
      ],
      "execution_count": 36,
      "outputs": [
        {
          "output_type": "execute_result",
          "data": {
            "text/plain": [
              "CRIM       0\n",
              "ZN         0\n",
              "INDUS      0\n",
              "CHAS       0\n",
              "NOX        0\n",
              "RM         0\n",
              "AGE        0\n",
              "DIS        0\n",
              "RAD        0\n",
              "TAX        0\n",
              "PTRATIO    0\n",
              "BK         0\n",
              "LSTAT      0\n",
              "MEDV       0\n",
              "dtype: int64"
            ]
          },
          "metadata": {
            "tags": []
          },
          "execution_count": 36
        }
      ]
    },
    {
      "cell_type": "code",
      "metadata": {
        "id": "xKVR151bZnIj",
        "colab_type": "code",
        "colab": {
          "base_uri": "https://localhost:8080/",
          "height": 35
        },
        "outputId": "f0c39db2-35e6-4951-ee17-5be7c7b533a8"
      },
      "source": [
        "# convert dataframe from pandas to numpy array\n",
        "data = df.values\n",
        "type(data)"
      ],
      "execution_count": 37,
      "outputs": [
        {
          "output_type": "execute_result",
          "data": {
            "text/plain": [
              "numpy.ndarray"
            ]
          },
          "metadata": {
            "tags": []
          },
          "execution_count": 37
        }
      ]
    },
    {
      "cell_type": "code",
      "metadata": {
        "id": "LjLf--gahpsN",
        "colab_type": "code",
        "colab": {
          "base_uri": "https://localhost:8080/",
          "height": 35
        },
        "outputId": "675d1862-de08-4092-dadb-4fbf9cfd163a"
      },
      "source": [
        "# check dataset shape\n",
        "data.shape"
      ],
      "execution_count": 38,
      "outputs": [
        {
          "output_type": "execute_result",
          "data": {
            "text/plain": [
              "(506, 14)"
            ]
          },
          "metadata": {
            "tags": []
          },
          "execution_count": 38
        }
      ]
    },
    {
      "cell_type": "code",
      "metadata": {
        "id": "_XP2JVuNh2mK",
        "colab_type": "code",
        "colab": {
          "base_uri": "https://localhost:8080/",
          "height": 35
        },
        "outputId": "b0005cca-042c-4086-d423-69377e70a118"
      },
      "source": [
        "# check data dtype\n",
        "data.dtype"
      ],
      "execution_count": 39,
      "outputs": [
        {
          "output_type": "execute_result",
          "data": {
            "text/plain": [
              "dtype('float64')"
            ]
          },
          "metadata": {
            "tags": []
          },
          "execution_count": 39
        }
      ]
    },
    {
      "cell_type": "code",
      "metadata": {
        "id": "T4sCacrffMVM",
        "colab_type": "code",
        "colab": {}
      },
      "source": [
        "# split dataset into training set and test set\n",
        "training, test = train_test_split(data, test_size=0.33, random_state=42)\n"
      ],
      "execution_count": 40,
      "outputs": []
    },
    {
      "cell_type": "code",
      "metadata": {
        "id": "48OsAxkHjA6t",
        "colab_type": "code",
        "colab": {}
      },
      "source": [
        "# split into input and output variables\n",
        "train_x = training[:,0:13]\n",
        "train_y = training[:,13]\n",
        "test_x = test[:,0:13]\n",
        "test_y = test[:,13]"
      ],
      "execution_count": 41,
      "outputs": []
    },
    {
      "cell_type": "code",
      "metadata": {
        "id": "BIwSurcBjp_P",
        "colab_type": "code",
        "colab": {
          "base_uri": "https://localhost:8080/",
          "height": 35
        },
        "outputId": "ea08ece1-88fb-405a-99fa-8fc2a364d733"
      },
      "source": [
        "# check training data\n",
        "training.shape"
      ],
      "execution_count": 42,
      "outputs": [
        {
          "output_type": "execute_result",
          "data": {
            "text/plain": [
              "(339, 14)"
            ]
          },
          "metadata": {
            "tags": []
          },
          "execution_count": 42
        }
      ]
    },
    {
      "cell_type": "code",
      "metadata": {
        "id": "Yo3S0Kj_j4UR",
        "colab_type": "code",
        "colab": {
          "base_uri": "https://localhost:8080/",
          "height": 35
        },
        "outputId": "23c41f16-25f4-415a-c2b7-bfd082252a23"
      },
      "source": [
        "# check test data\n",
        "test.shape"
      ],
      "execution_count": 43,
      "outputs": [
        {
          "output_type": "execute_result",
          "data": {
            "text/plain": [
              "(167, 14)"
            ]
          },
          "metadata": {
            "tags": []
          },
          "execution_count": 43
        }
      ]
    },
    {
      "cell_type": "code",
      "metadata": {
        "id": "ecMj4jDfH8py",
        "colab_type": "code",
        "colab": {}
      },
      "source": [
        "# Standard Scaler \n",
        "sc = StandardScaler()\n",
        "train_x = sc.fit_transform(train_x)\n",
        "test_x = sc.fit_transform(test_x)"
      ],
      "execution_count": 44,
      "outputs": []
    },
    {
      "cell_type": "markdown",
      "metadata": {
        "id": "LoMoWHVFm7e0",
        "colab_type": "text"
      },
      "source": [
        "# Linear Regression Model"
      ]
    },
    {
      "cell_type": "markdown",
      "metadata": {
        "id": "iUEHVhu20Hkw",
        "colab_type": "text"
      },
      "source": [
        "### create model"
      ]
    },
    {
      "cell_type": "code",
      "metadata": {
        "id": "wZcFg3M3odLd",
        "colab_type": "code",
        "colab": {
          "base_uri": "https://localhost:8080/",
          "height": 35
        },
        "outputId": "ef9329ca-8a33-403d-c0a3-286832516ba1"
      },
      "source": [
        "# create model\n",
        "lr = LinearRegression()\n",
        "lr.fit(train_x,train_y)"
      ],
      "execution_count": 45,
      "outputs": [
        {
          "output_type": "execute_result",
          "data": {
            "text/plain": [
              "LinearRegression(copy_X=True, fit_intercept=True, n_jobs=None, normalize=False)"
            ]
          },
          "metadata": {
            "tags": []
          },
          "execution_count": 45
        }
      ]
    },
    {
      "cell_type": "markdown",
      "metadata": {
        "id": "G212sQPW0NG3",
        "colab_type": "text"
      },
      "source": [
        "### evaluate model"
      ]
    },
    {
      "cell_type": "code",
      "metadata": {
        "id": "2qau3lcSw74I",
        "colab_type": "code",
        "colab": {
          "base_uri": "https://localhost:8080/",
          "height": 35
        },
        "outputId": "24198df8-7913-4b4e-9abc-447bef4b8667"
      },
      "source": [
        "# evaluate model with RMSE\n",
        "train_y_predict = lr.predict(train_x)\n",
        "rmse = (np.sqrt(mean_squared_error(train_y, train_y_predict)))\n",
        "\n",
        "# the model performance for training set\n",
        "print('RMSE for training set is {}'.format(rmse))"
      ],
      "execution_count": 46,
      "outputs": [
        {
          "output_type": "stream",
          "text": [
            "RMSE for training set is 4.794269062151269\n"
          ],
          "name": "stdout"
        }
      ]
    },
    {
      "cell_type": "code",
      "metadata": {
        "id": "u_fT10480BMU",
        "colab_type": "code",
        "colab": {
          "base_uri": "https://localhost:8080/",
          "height": 35
        },
        "outputId": "8ef060a8-e636-42f7-e984-6a12dea95f36"
      },
      "source": [
        "# evaluate model for test set\n",
        "test_y_predict = lr.predict(test_x)\n",
        "rmse_test = (np.sqrt(mean_squared_error(test_y, test_y_predict)))\n",
        "\n",
        "# the model performance for test set\n",
        "print('RMSE for test set is {}'.format(rmse_test))"
      ],
      "execution_count": 47,
      "outputs": [
        {
          "output_type": "stream",
          "text": [
            "RMSE for test set is 4.731522715744227\n"
          ],
          "name": "stdout"
        }
      ]
    },
    {
      "cell_type": "markdown",
      "metadata": {
        "id": "RhXRx7xo1D8a",
        "colab_type": "text"
      },
      "source": [
        "**RMSE result for test set is very simiar with result with training set.** "
      ]
    },
    {
      "cell_type": "code",
      "metadata": {
        "id": "fWznC44v32v0",
        "colab_type": "code",
        "colab": {
          "base_uri": "https://localhost:8080/",
          "height": 35
        },
        "outputId": "1d029e61-ee50-4d0b-ae3f-fa74d45c7e4d"
      },
      "source": [
        "# evaluate model with R2-score\n",
        "r2 = r2_score(train_y, train_y_predict)\n",
        "\n",
        "# the model performance for training set\n",
        "print('R2-score for training set is {}'.format(r2))"
      ],
      "execution_count": 48,
      "outputs": [
        {
          "output_type": "stream",
          "text": [
            "R2-score for training set is 0.7392344370995025\n"
          ],
          "name": "stdout"
        }
      ]
    },
    {
      "cell_type": "code",
      "metadata": {
        "id": "w8AUoS8Z41wZ",
        "colab_type": "code",
        "colab": {
          "base_uri": "https://localhost:8080/",
          "height": 35
        },
        "outputId": "e32f746b-86db-4100-889a-1dae0a832943"
      },
      "source": [
        "# evaluate model for test set\n",
        "test_y_predict = lr.predict(test_x)\n",
        "r2_test = r2_score(test_y, test_y_predict)\n",
        "\n",
        "# the model performance for test set\n",
        "print('R2-score for test set is {}'.format(r2_test))"
      ],
      "execution_count": 49,
      "outputs": [
        {
          "output_type": "stream",
          "text": [
            "R2-score for test set is 0.7041787993571815\n"
          ],
          "name": "stdout"
        }
      ]
    },
    {
      "cell_type": "markdown",
      "metadata": {
        "id": "X_umaOFL-jWR",
        "colab_type": "text"
      },
      "source": [
        "#### **r2-score for test set and training set both over 0.7, means more than 70% of housing price's variation is accounted for by the model. So it seems the model is good, but need some improvement.**"
      ]
    },
    {
      "cell_type": "markdown",
      "metadata": {
        "id": "CvYDTV9g0JyY",
        "colab_type": "text"
      },
      "source": [
        "### model visualization"
      ]
    },
    {
      "cell_type": "code",
      "metadata": {
        "id": "5oEz_40UzvQe",
        "colab_type": "code",
        "colab": {
          "base_uri": "https://localhost:8080/",
          "height": 306
        },
        "outputId": "1eb2d14b-6131-410a-d077-f9e6f12f02c4"
      },
      "source": [
        "# set figure size\n",
        "plt.figure(figsize=(8, 4), dpi=80)\n",
        "plt.plot(range(len(test_y)), test_y, ls='solid', lw=2, c='r', label='real price')\n",
        "plt.plot(range(len(test_y_predict)), test_y_predict, ls='dotted', lw=2, c='g', label='predict price')\n",
        "\n",
        "# plot grid\n",
        "plt.grid(alpha=0.4, linestyle=':')\n",
        "plt.legend()\n",
        "plt.xlabel('number')\n",
        "plt.ylabel('house price')\n",
        "plt.show()"
      ],
      "execution_count": 50,
      "outputs": [
        {
          "output_type": "display_data",
          "data": {
            "image/png": "[encoded data removed]",
            "text/plain": [
              "<Figure size 640x320 with 1 Axes>"
            ]
          },
          "metadata": {
            "tags": [],
            "needs_background": "light"
          }
        }
      ]
    },
    {
      "cell_type": "markdown",
      "metadata": {
        "id": "4T6acUcmATUn",
        "colab_type": "text"
      },
      "source": [
        "# ANN Model"
      ]
    },
    {
      "cell_type": "markdown",
      "metadata": {
        "id": "iT2IdElTAs5s",
        "colab_type": "text"
      },
      "source": [
        "### create model"
      ]
    },
    {
      "cell_type": "code",
      "metadata": {
        "id": "nd_BATiCAhiD",
        "colab_type": "code",
        "colab": {}
      },
      "source": [
        "# the last layer don't need activation because we predict the house price, not classification\n",
        "model = keras.Sequential([\n",
        "    keras.layers.Dense(64, activation='relu', input_shape=(13,)),\n",
        "    keras.layers.Dense(64, activation='relu', input_dim=13),\n",
        "    keras.layers.Dense(64, activation='relu'),\n",
        "    keras.layers.Dense(1)])"
      ],
      "execution_count": 51,
      "outputs": []
    },
    {
      "cell_type": "markdown",
      "metadata": {
        "id": "CbDKisPWCbbQ",
        "colab_type": "text"
      },
      "source": [
        "### compile model"
      ]
    },
    {
      "cell_type": "code",
      "metadata": {
        "id": "hNIIO1iNCej1",
        "colab_type": "code",
        "colab": {}
      },
      "source": [
        "# because we predict prices, a lineral regression predict, so loss is different from classification. mean_squared_error\n",
        "model.compile(optimizer='adam',\n",
        "              loss='mse',\n",
        "              metrics=['mae'])"
      ],
      "execution_count": 52,
      "outputs": []
    },
    {
      "cell_type": "markdown",
      "metadata": {
        "id": "eB6xYdjHCzGI",
        "colab_type": "text"
      },
      "source": [
        "### fit data to network"
      ]
    },
    {
      "cell_type": "code",
      "metadata": {
        "id": "mH6W807WCyR3",
        "colab_type": "code",
        "colab": {
          "base_uri": "https://localhost:8080/",
          "height": 1000
        },
        "outputId": "42c9d88f-576d-49c6-c69d-d2a9b9b9b9b1"
      },
      "source": [
        "model.fit(train_x, train_y, batch_size=10, epochs=200)"
      ],
      "execution_count": 53,
      "outputs": [
        {
          "output_type": "stream",
          "text": [
            "Epoch 1/200\n",
            "34/34 [==============================] - 0s 1ms/step - loss: 533.7902 - mae: 21.1178\n",
            "Epoch 2/200\n",
            "34/34 [==============================] - 0s 1ms/step - loss: 179.6149 - mae: 10.9794\n",
            "Epoch 3/200\n",
            "34/34 [==============================] - 0s 1ms/step - loss: 47.4342 - mae: 5.2874\n",
            "Epoch 4/200\n",
            "34/34 [==============================] - 0s 1ms/step - loss: 25.3372 - mae: 3.7501\n",
            "Epoch 5/200\n",
            "34/34 [==============================] - 0s 1ms/step - loss: 20.7581 - mae: 3.3491\n",
            "Epoch 6/200\n",
            "34/34 [==============================] - 0s 1ms/step - loss: 18.4897 - mae: 3.1581\n",
            "Epoch 7/200\n",
            "34/34 [==============================] - 0s 1ms/step - loss: 17.0013 - mae: 3.0172\n",
            "Epoch 8/200\n",
            "34/34 [==============================] - 0s 1ms/step - loss: 15.6037 - mae: 2.9165\n",
            "Epoch 9/200\n",
            "34/34 [==============================] - 0s 1ms/step - loss: 14.9452 - mae: 2.8335\n",
            "Epoch 10/200\n",
            "34/34 [==============================] - 0s 1ms/step - loss: 13.9025 - mae: 2.7333\n",
            "Epoch 11/200\n",
            "34/34 [==============================] - 0s 1ms/step - loss: 13.3394 - mae: 2.7003\n",
            "Epoch 12/200\n",
            "34/34 [==============================] - 0s 2ms/step - loss: 12.5133 - mae: 2.6164\n",
            "Epoch 13/200\n",
            "34/34 [==============================] - 0s 1ms/step - loss: 12.6716 - mae: 2.5865\n",
            "Epoch 14/200\n",
            "34/34 [==============================] - 0s 1ms/step - loss: 12.2468 - mae: 2.5740\n",
            "Epoch 15/200\n",
            "34/34 [==============================] - 0s 1ms/step - loss: 12.1817 - mae: 2.5930\n",
            "Epoch 16/200\n",
            "34/34 [==============================] - 0s 1ms/step - loss: 11.1812 - mae: 2.4719\n",
            "Epoch 17/200\n",
            "34/34 [==============================] - 0s 1ms/step - loss: 10.6046 - mae: 2.3975\n",
            "Epoch 18/200\n",
            "34/34 [==============================] - 0s 2ms/step - loss: 10.4720 - mae: 2.3971\n",
            "Epoch 19/200\n",
            "34/34 [==============================] - 0s 1ms/step - loss: 9.8932 - mae: 2.3536\n",
            "Epoch 20/200\n",
            "34/34 [==============================] - 0s 1ms/step - loss: 9.9546 - mae: 2.2963\n",
            "Epoch 21/200\n",
            "34/34 [==============================] - 0s 1ms/step - loss: 9.4657 - mae: 2.3029\n",
            "Epoch 22/200\n",
            "34/34 [==============================] - 0s 1ms/step - loss: 9.1095 - mae: 2.2316\n",
            "Epoch 23/200\n",
            "34/34 [==============================] - 0s 1ms/step - loss: 8.7433 - mae: 2.2274\n",
            "Epoch 24/200\n",
            "34/34 [==============================] - 0s 1ms/step - loss: 8.4781 - mae: 2.1439\n",
            "Epoch 25/200\n",
            "34/34 [==============================] - 0s 1ms/step - loss: 8.1927 - mae: 2.1055\n",
            "Epoch 26/200\n",
            "34/34 [==============================] - 0s 1ms/step - loss: 7.7312 - mae: 2.0542\n",
            "Epoch 27/200\n",
            "34/34 [==============================] - 0s 1ms/step - loss: 8.2356 - mae: 2.1692\n",
            "Epoch 28/200\n",
            "34/34 [==============================] - 0s 1ms/step - loss: 8.8333 - mae: 2.2622\n",
            "Epoch 29/200\n",
            "34/34 [==============================] - 0s 1ms/step - loss: 7.3491 - mae: 2.0554\n",
            "Epoch 30/200\n",
            "34/34 [==============================] - 0s 1ms/step - loss: 6.9472 - mae: 1.9767\n",
            "Epoch 31/200\n",
            "34/34 [==============================] - 0s 1ms/step - loss: 7.4211 - mae: 2.0039\n",
            "Epoch 32/200\n",
            "34/34 [==============================] - 0s 1ms/step - loss: 6.4333 - mae: 1.8811\n",
            "Epoch 33/200\n",
            "34/34 [==============================] - 0s 1ms/step - loss: 6.2906 - mae: 1.8723\n",
            "Epoch 34/200\n",
            "34/34 [==============================] - 0s 1ms/step - loss: 5.9663 - mae: 1.8161\n",
            "Epoch 35/200\n",
            "34/34 [==============================] - 0s 1ms/step - loss: 6.6246 - mae: 1.9521\n",
            "Epoch 36/200\n",
            "34/34 [==============================] - 0s 1ms/step - loss: 6.0398 - mae: 1.8397\n",
            "Epoch 37/200\n",
            "34/34 [==============================] - 0s 1ms/step - loss: 5.6659 - mae: 1.7939\n",
            "Epoch 38/200\n",
            "34/34 [==============================] - 0s 1ms/step - loss: 5.5630 - mae: 1.7628\n",
            "Epoch 39/200\n",
            "34/34 [==============================] - 0s 1ms/step - loss: 5.3354 - mae: 1.7417\n",
            "Epoch 40/200\n",
            "34/34 [==============================] - 0s 1ms/step - loss: 5.8038 - mae: 1.8107\n",
            "Epoch 41/200\n",
            "34/34 [==============================] - 0s 1ms/step - loss: 5.2011 - mae: 1.7134\n",
            "Epoch 42/200\n",
            "34/34 [==============================] - 0s 1ms/step - loss: 5.1342 - mae: 1.6804\n",
            "Epoch 43/200\n",
            "34/34 [==============================] - 0s 1ms/step - loss: 5.0216 - mae: 1.6927\n",
            "Epoch 44/200\n",
            "34/34 [==============================] - 0s 1ms/step - loss: 4.8567 - mae: 1.6522\n",
            "Epoch 45/200\n",
            "34/34 [==============================] - 0s 1ms/step - loss: 4.8180 - mae: 1.6503\n",
            "Epoch 46/200\n",
            "34/34 [==============================] - 0s 1ms/step - loss: 4.3964 - mae: 1.5778\n",
            "Epoch 47/200\n",
            "34/34 [==============================] - 0s 1ms/step - loss: 4.4604 - mae: 1.6272\n",
            "Epoch 48/200\n",
            "34/34 [==============================] - 0s 1ms/step - loss: 4.5383 - mae: 1.5966\n",
            "Epoch 49/200\n",
            "34/34 [==============================] - 0s 1ms/step - loss: 4.3279 - mae: 1.5635\n",
            "Epoch 50/200\n",
            "34/34 [==============================] - 0s 1ms/step - loss: 4.4130 - mae: 1.5870\n",
            "Epoch 51/200\n",
            "34/34 [==============================] - 0s 1ms/step - loss: 4.0239 - mae: 1.5216\n",
            "Epoch 52/200\n",
            "34/34 [==============================] - 0s 1ms/step - loss: 3.8809 - mae: 1.5092\n",
            "Epoch 53/200\n",
            "34/34 [==============================] - 0s 1ms/step - loss: 4.1446 - mae: 1.5360\n",
            "Epoch 54/200\n",
            "34/34 [==============================] - 0s 1ms/step - loss: 4.2364 - mae: 1.5708\n",
            "Epoch 55/200\n",
            "34/34 [==============================] - 0s 1ms/step - loss: 3.8461 - mae: 1.4934\n",
            "Epoch 56/200\n",
            "34/34 [==============================] - 0s 1ms/step - loss: 4.1364 - mae: 1.5637\n",
            "Epoch 57/200\n",
            "34/34 [==============================] - 0s 1ms/step - loss: 4.0620 - mae: 1.5362\n",
            "Epoch 58/200\n",
            "34/34 [==============================] - 0s 1ms/step - loss: 4.2419 - mae: 1.5407\n",
            "Epoch 59/200\n",
            "34/34 [==============================] - 0s 1ms/step - loss: 4.0339 - mae: 1.5519\n",
            "Epoch 60/200\n",
            "34/34 [==============================] - 0s 1ms/step - loss: 4.1019 - mae: 1.5373\n",
            "Epoch 61/200\n",
            "34/34 [==============================] - 0s 1ms/step - loss: 3.7740 - mae: 1.4613\n",
            "Epoch 62/200\n",
            "34/34 [==============================] - 0s 1ms/step - loss: 3.4836 - mae: 1.3921\n",
            "Epoch 63/200\n",
            "34/34 [==============================] - 0s 1ms/step - loss: 3.4225 - mae: 1.3670\n",
            "Epoch 64/200\n",
            "34/34 [==============================] - 0s 1ms/step - loss: 3.5293 - mae: 1.4255\n",
            "Epoch 65/200\n",
            "34/34 [==============================] - 0s 1ms/step - loss: 3.5993 - mae: 1.4082\n",
            "Epoch 66/200\n",
            "34/34 [==============================] - 0s 1ms/step - loss: 3.7083 - mae: 1.4483\n",
            "Epoch 67/200\n",
            "34/34 [==============================] - 0s 1ms/step - loss: 3.2918 - mae: 1.3710\n",
            "Epoch 68/200\n",
            "34/34 [==============================] - 0s 1ms/step - loss: 3.2949 - mae: 1.3516\n",
            "Epoch 69/200\n",
            "34/34 [==============================] - 0s 1ms/step - loss: 3.2608 - mae: 1.3463\n",
            "Epoch 70/200\n",
            "34/34 [==============================] - 0s 1ms/step - loss: 3.4290 - mae: 1.4066\n",
            "Epoch 71/200\n",
            "34/34 [==============================] - 0s 1ms/step - loss: 3.1965 - mae: 1.3209\n",
            "Epoch 72/200\n",
            "34/34 [==============================] - 0s 1ms/step - loss: 3.0041 - mae: 1.3104\n",
            "Epoch 73/200\n",
            "34/34 [==============================] - 0s 1ms/step - loss: 3.3240 - mae: 1.3350\n",
            "Epoch 74/200\n",
            "34/34 [==============================] - 0s 1ms/step - loss: 3.0112 - mae: 1.2882\n",
            "Epoch 75/200\n",
            "34/34 [==============================] - 0s 1ms/step - loss: 2.9724 - mae: 1.2657\n",
            "Epoch 76/200\n",
            "34/34 [==============================] - 0s 1ms/step - loss: 3.0516 - mae: 1.3165\n",
            "Epoch 77/200\n",
            "34/34 [==============================] - 0s 1ms/step - loss: 3.0830 - mae: 1.3059\n",
            "Epoch 78/200\n",
            "34/34 [==============================] - 0s 1ms/step - loss: 2.9611 - mae: 1.3010\n",
            "Epoch 79/200\n",
            "34/34 [==============================] - 0s 1ms/step - loss: 2.9504 - mae: 1.2983\n",
            "Epoch 80/200\n",
            "34/34 [==============================] - 0s 1ms/step - loss: 3.0205 - mae: 1.2797\n",
            "Epoch 81/200\n",
            "34/34 [==============================] - 0s 1ms/step - loss: 2.6740 - mae: 1.1900\n",
            "Epoch 82/200\n",
            "34/34 [==============================] - 0s 1ms/step - loss: 2.6494 - mae: 1.1820\n",
            "Epoch 83/200\n",
            "34/34 [==============================] - 0s 1ms/step - loss: 2.6201 - mae: 1.2305\n",
            "Epoch 84/200\n",
            "34/34 [==============================] - 0s 1ms/step - loss: 2.7671 - mae: 1.2490\n",
            "Epoch 85/200\n",
            "34/34 [==============================] - 0s 1ms/step - loss: 3.0025 - mae: 1.2857\n",
            "Epoch 86/200\n",
            "34/34 [==============================] - 0s 1ms/step - loss: 2.8849 - mae: 1.2648\n",
            "Epoch 87/200\n",
            "34/34 [==============================] - 0s 1ms/step - loss: 2.8158 - mae: 1.2496\n",
            "Epoch 88/200\n",
            "34/34 [==============================] - 0s 1ms/step - loss: 2.9441 - mae: 1.2653\n",
            "Epoch 89/200\n",
            "34/34 [==============================] - 0s 1ms/step - loss: 2.6113 - mae: 1.1871\n",
            "Epoch 90/200\n",
            "34/34 [==============================] - 0s 1ms/step - loss: 2.7186 - mae: 1.2327\n",
            "Epoch 91/200\n",
            "34/34 [==============================] - 0s 1ms/step - loss: 2.8704 - mae: 1.2794\n",
            "Epoch 92/200\n",
            "34/34 [==============================] - 0s 1ms/step - loss: 2.9388 - mae: 1.2718\n",
            "Epoch 93/200\n",
            "34/34 [==============================] - 0s 1ms/step - loss: 2.5320 - mae: 1.1715\n",
            "Epoch 94/200\n",
            "34/34 [==============================] - 0s 1ms/step - loss: 2.6592 - mae: 1.2151\n",
            "Epoch 95/200\n",
            "34/34 [==============================] - 0s 1ms/step - loss: 2.7131 - mae: 1.2117\n",
            "Epoch 96/200\n",
            "34/34 [==============================] - 0s 1ms/step - loss: 2.3348 - mae: 1.1080\n",
            "Epoch 97/200\n",
            "34/34 [==============================] - 0s 1ms/step - loss: 2.2401 - mae: 1.0916\n",
            "Epoch 98/200\n",
            "34/34 [==============================] - 0s 1ms/step - loss: 2.7519 - mae: 1.2402\n",
            "Epoch 99/200\n",
            "34/34 [==============================] - 0s 1ms/step - loss: 2.8983 - mae: 1.2877\n",
            "Epoch 100/200\n",
            "34/34 [==============================] - 0s 1ms/step - loss: 2.8319 - mae: 1.2685\n",
            "Epoch 101/200\n",
            "34/34 [==============================] - 0s 1ms/step - loss: 2.2602 - mae: 1.1113\n",
            "Epoch 102/200\n",
            "34/34 [==============================] - 0s 1ms/step - loss: 2.3520 - mae: 1.0898\n",
            "Epoch 103/200\n",
            "34/34 [==============================] - 0s 1ms/step - loss: 2.2560 - mae: 1.1088\n",
            "Epoch 104/200\n",
            "34/34 [==============================] - 0s 1ms/step - loss: 2.3855 - mae: 1.1491\n",
            "Epoch 105/200\n",
            "34/34 [==============================] - 0s 1ms/step - loss: 2.2460 - mae: 1.0768\n",
            "Epoch 106/200\n",
            "34/34 [==============================] - 0s 1ms/step - loss: 2.2036 - mae: 1.0615\n",
            "Epoch 107/200\n",
            "34/34 [==============================] - 0s 2ms/step - loss: 2.6068 - mae: 1.1880\n",
            "Epoch 108/200\n",
            "34/34 [==============================] - 0s 1ms/step - loss: 2.7386 - mae: 1.2193\n",
            "Epoch 109/200\n",
            "34/34 [==============================] - 0s 1ms/step - loss: 2.3244 - mae: 1.1240\n",
            "Epoch 110/200\n",
            "34/34 [==============================] - 0s 1ms/step - loss: 2.5299 - mae: 1.1660\n",
            "Epoch 111/200\n",
            "34/34 [==============================] - 0s 1ms/step - loss: 2.1075 - mae: 1.0416\n",
            "Epoch 112/200\n",
            "34/34 [==============================] - 0s 1ms/step - loss: 1.9725 - mae: 1.0016\n",
            "Epoch 113/200\n",
            "34/34 [==============================] - 0s 1ms/step - loss: 2.0188 - mae: 1.0261\n",
            "Epoch 114/200\n",
            "34/34 [==============================] - 0s 1ms/step - loss: 2.0760 - mae: 1.0194\n",
            "Epoch 115/200\n",
            "34/34 [==============================] - 0s 1ms/step - loss: 2.4902 - mae: 1.1501\n",
            "Epoch 116/200\n",
            "34/34 [==============================] - 0s 1ms/step - loss: 2.3299 - mae: 1.0864\n",
            "Epoch 117/200\n",
            "34/34 [==============================] - 0s 1ms/step - loss: 2.1165 - mae: 1.0677\n",
            "Epoch 118/200\n",
            "34/34 [==============================] - 0s 1ms/step - loss: 2.2562 - mae: 1.1060\n",
            "Epoch 119/200\n",
            "34/34 [==============================] - 0s 1ms/step - loss: 1.9759 - mae: 1.0023\n",
            "Epoch 120/200\n",
            "34/34 [==============================] - 0s 1ms/step - loss: 2.0361 - mae: 1.0419\n",
            "Epoch 121/200\n",
            "34/34 [==============================] - 0s 1ms/step - loss: 2.0734 - mae: 1.0274\n",
            "Epoch 122/200\n",
            "34/34 [==============================] - 0s 1ms/step - loss: 2.0703 - mae: 1.0553\n",
            "Epoch 123/200\n",
            "34/34 [==============================] - 0s 1ms/step - loss: 1.9354 - mae: 1.0251\n",
            "Epoch 124/200\n",
            "34/34 [==============================] - 0s 1ms/step - loss: 1.8825 - mae: 0.9528\n",
            "Epoch 125/200\n",
            "34/34 [==============================] - 0s 1ms/step - loss: 1.9629 - mae: 1.0073\n",
            "Epoch 126/200\n",
            "34/34 [==============================] - 0s 1ms/step - loss: 2.0007 - mae: 1.0241\n",
            "Epoch 127/200\n",
            "34/34 [==============================] - 0s 1ms/step - loss: 1.9501 - mae: 0.9915\n",
            "Epoch 128/200\n",
            "34/34 [==============================] - 0s 1ms/step - loss: 1.8046 - mae: 0.9678\n",
            "Epoch 129/200\n",
            "34/34 [==============================] - 0s 1ms/step - loss: 2.0200 - mae: 1.0237\n",
            "Epoch 130/200\n",
            "34/34 [==============================] - 0s 1ms/step - loss: 2.0198 - mae: 1.0625\n",
            "Epoch 131/200\n",
            "34/34 [==============================] - 0s 1ms/step - loss: 1.7939 - mae: 0.9550\n",
            "Epoch 132/200\n",
            "34/34 [==============================] - 0s 1ms/step - loss: 1.8783 - mae: 1.0015\n",
            "Epoch 133/200\n",
            "34/34 [==============================] - 0s 1ms/step - loss: 1.7313 - mae: 0.9551\n",
            "Epoch 134/200\n",
            "34/34 [==============================] - 0s 1ms/step - loss: 1.8534 - mae: 0.9502\n",
            "Epoch 135/200\n",
            "34/34 [==============================] - 0s 1ms/step - loss: 1.8462 - mae: 0.9773\n",
            "Epoch 136/200\n",
            "34/34 [==============================] - 0s 1ms/step - loss: 2.2878 - mae: 1.1471\n",
            "Epoch 137/200\n",
            "34/34 [==============================] - 0s 1ms/step - loss: 1.6863 - mae: 0.9326\n",
            "Epoch 138/200\n",
            "34/34 [==============================] - 0s 1ms/step - loss: 1.7564 - mae: 0.9612\n",
            "Epoch 139/200\n",
            "34/34 [==============================] - 0s 1ms/step - loss: 1.6802 - mae: 0.9179\n",
            "Epoch 140/200\n",
            "34/34 [==============================] - 0s 1ms/step - loss: 1.4840 - mae: 0.8590\n",
            "Epoch 141/200\n",
            "34/34 [==============================] - 0s 1ms/step - loss: 1.7817 - mae: 0.9310\n",
            "Epoch 142/200\n",
            "34/34 [==============================] - 0s 1ms/step - loss: 1.6993 - mae: 0.9361\n",
            "Epoch 143/200\n",
            "34/34 [==============================] - 0s 1ms/step - loss: 1.5392 - mae: 0.8674\n",
            "Epoch 144/200\n",
            "34/34 [==============================] - 0s 1ms/step - loss: 1.8842 - mae: 0.9670\n",
            "Epoch 145/200\n",
            "34/34 [==============================] - 0s 1ms/step - loss: 1.7244 - mae: 0.9574\n",
            "Epoch 146/200\n",
            "34/34 [==============================] - 0s 1ms/step - loss: 2.1788 - mae: 1.0417\n",
            "Epoch 147/200\n",
            "34/34 [==============================] - 0s 1ms/step - loss: 1.7350 - mae: 0.9413\n",
            "Epoch 148/200\n",
            "34/34 [==============================] - 0s 1ms/step - loss: 1.5288 - mae: 0.8731\n",
            "Epoch 149/200\n",
            "34/34 [==============================] - 0s 1ms/step - loss: 1.5750 - mae: 0.8633\n",
            "Epoch 150/200\n",
            "34/34 [==============================] - 0s 1ms/step - loss: 1.5443 - mae: 0.8657\n",
            "Epoch 151/200\n",
            "34/34 [==============================] - 0s 1ms/step - loss: 1.5392 - mae: 0.8541\n",
            "Epoch 152/200\n",
            "34/34 [==============================] - 0s 1ms/step - loss: 1.6820 - mae: 0.9569\n",
            "Epoch 153/200\n",
            "34/34 [==============================] - 0s 1ms/step - loss: 1.6413 - mae: 0.8947\n",
            "Epoch 154/200\n",
            "34/34 [==============================] - 0s 1ms/step - loss: 1.4662 - mae: 0.8492\n",
            "Epoch 155/200\n",
            "34/34 [==============================] - 0s 1ms/step - loss: 1.5911 - mae: 0.8918\n",
            "Epoch 156/200\n",
            "34/34 [==============================] - 0s 1ms/step - loss: 1.7458 - mae: 0.9611\n",
            "Epoch 157/200\n",
            "34/34 [==============================] - 0s 1ms/step - loss: 1.5853 - mae: 0.8670\n",
            "Epoch 158/200\n",
            "34/34 [==============================] - 0s 1ms/step - loss: 1.8669 - mae: 0.9888\n",
            "Epoch 159/200\n",
            "34/34 [==============================] - 0s 1ms/step - loss: 1.7228 - mae: 0.9116\n",
            "Epoch 160/200\n",
            "34/34 [==============================] - 0s 1ms/step - loss: 1.3372 - mae: 0.7862\n",
            "Epoch 161/200\n",
            "34/34 [==============================] - 0s 1ms/step - loss: 1.3339 - mae: 0.7672\n",
            "Epoch 162/200\n",
            "34/34 [==============================] - 0s 1ms/step - loss: 1.5176 - mae: 0.9215\n",
            "Epoch 163/200\n",
            "34/34 [==============================] - 0s 1ms/step - loss: 1.4955 - mae: 0.8451\n",
            "Epoch 164/200\n",
            "34/34 [==============================] - 0s 1ms/step - loss: 1.5559 - mae: 0.8922\n",
            "Epoch 165/200\n",
            "34/34 [==============================] - 0s 1ms/step - loss: 1.4115 - mae: 0.8027\n",
            "Epoch 166/200\n",
            "34/34 [==============================] - 0s 1ms/step - loss: 1.3023 - mae: 0.7750\n",
            "Epoch 167/200\n",
            "34/34 [==============================] - 0s 1ms/step - loss: 1.5752 - mae: 0.8662\n",
            "Epoch 168/200\n",
            "34/34 [==============================] - 0s 1ms/step - loss: 1.6045 - mae: 0.9069\n",
            "Epoch 169/200\n",
            "34/34 [==============================] - 0s 1ms/step - loss: 1.2810 - mae: 0.7697\n",
            "Epoch 170/200\n",
            "34/34 [==============================] - 0s 1ms/step - loss: 1.4445 - mae: 0.8794\n",
            "Epoch 171/200\n",
            "34/34 [==============================] - 0s 1ms/step - loss: 1.4681 - mae: 0.8690\n",
            "Epoch 172/200\n",
            "34/34 [==============================] - 0s 1ms/step - loss: 1.3853 - mae: 0.8327\n",
            "Epoch 173/200\n",
            "34/34 [==============================] - 0s 1ms/step - loss: 1.2774 - mae: 0.7776\n",
            "Epoch 174/200\n",
            "34/34 [==============================] - 0s 1ms/step - loss: 1.4097 - mae: 0.8305\n",
            "Epoch 175/200\n",
            "34/34 [==============================] - 0s 1ms/step - loss: 1.3778 - mae: 0.8101\n",
            "Epoch 176/200\n",
            "34/34 [==============================] - 0s 1ms/step - loss: 1.3637 - mae: 0.7937\n",
            "Epoch 177/200\n",
            "34/34 [==============================] - 0s 1ms/step - loss: 1.3217 - mae: 0.8057\n",
            "Epoch 178/200\n",
            "34/34 [==============================] - 0s 1ms/step - loss: 1.4245 - mae: 0.8305\n",
            "Epoch 179/200\n",
            "34/34 [==============================] - 0s 1ms/step - loss: 1.2802 - mae: 0.7921\n",
            "Epoch 180/200\n",
            "34/34 [==============================] - 0s 1ms/step - loss: 1.2918 - mae: 0.7723\n",
            "Epoch 181/200\n",
            "34/34 [==============================] - 0s 1ms/step - loss: 1.4004 - mae: 0.8348\n",
            "Epoch 182/200\n",
            "34/34 [==============================] - 0s 1ms/step - loss: 1.5878 - mae: 0.8839\n",
            "Epoch 183/200\n",
            "34/34 [==============================] - 0s 1ms/step - loss: 1.1490 - mae: 0.7361\n",
            "Epoch 184/200\n",
            "34/34 [==============================] - 0s 1ms/step - loss: 1.1566 - mae: 0.7448\n",
            "Epoch 185/200\n",
            "34/34 [==============================] - 0s 1ms/step - loss: 1.1089 - mae: 0.7451\n",
            "Epoch 186/200\n",
            "34/34 [==============================] - 0s 1ms/step - loss: 1.0580 - mae: 0.6729\n",
            "Epoch 187/200\n",
            "34/34 [==============================] - 0s 1ms/step - loss: 1.0281 - mae: 0.6774\n",
            "Epoch 188/200\n",
            "34/34 [==============================] - 0s 1ms/step - loss: 1.1732 - mae: 0.7630\n",
            "Epoch 189/200\n",
            "34/34 [==============================] - 0s 1ms/step - loss: 1.2732 - mae: 0.7975\n",
            "Epoch 190/200\n",
            "34/34 [==============================] - 0s 1ms/step - loss: 1.3654 - mae: 0.8294\n",
            "Epoch 191/200\n",
            "34/34 [==============================] - 0s 1ms/step - loss: 1.2686 - mae: 0.7751\n",
            "Epoch 192/200\n",
            "34/34 [==============================] - 0s 1ms/step - loss: 1.2131 - mae: 0.7788\n",
            "Epoch 193/200\n",
            "34/34 [==============================] - 0s 1ms/step - loss: 1.2696 - mae: 0.7722\n",
            "Epoch 194/200\n",
            "34/34 [==============================] - 0s 1ms/step - loss: 1.7069 - mae: 0.9274\n",
            "Epoch 195/200\n",
            "34/34 [==============================] - 0s 1ms/step - loss: 1.4393 - mae: 0.8200\n",
            "Epoch 196/200\n",
            "34/34 [==============================] - 0s 1ms/step - loss: 1.4586 - mae: 0.8723\n",
            "Epoch 197/200\n",
            "34/34 [==============================] - 0s 1ms/step - loss: 1.3198 - mae: 0.7693\n",
            "Epoch 198/200\n",
            "34/34 [==============================] - 0s 1ms/step - loss: 1.1084 - mae: 0.7502\n",
            "Epoch 199/200\n",
            "34/34 [==============================] - 0s 1ms/step - loss: 1.4219 - mae: 0.8962\n",
            "Epoch 200/200\n",
            "34/34 [==============================] - 0s 1ms/step - loss: 1.2735 - mae: 0.8103\n"
          ],
          "name": "stdout"
        },
        {
          "output_type": "execute_result",
          "data": {
            "text/plain": [
              "<tensorflow.python.keras.callbacks.History at 0x7f793d50d080>"
            ]
          },
          "metadata": {
            "tags": []
          },
          "execution_count": 53
        }
      ]
    },
    {
      "cell_type": "markdown",
      "metadata": {
        "id": "kC0VP4eovCtS",
        "colab_type": "text"
      },
      "source": [
        "#### evaluate the model"
      ]
    },
    {
      "cell_type": "code",
      "metadata": {
        "id": "RlI7aUt3vBsf",
        "colab_type": "code",
        "colab": {
          "base_uri": "https://localhost:8080/",
          "height": 1000
        },
        "outputId": "0cf4c65e-e135-4865-f1d5-b9ab4aabdb5d"
      },
      "source": [
        "# predict test_y\n",
        "test_y_predict = model.predict(test_x)\n",
        "\n",
        "test_y_predict"
      ],
      "execution_count": 54,
      "outputs": [
        {
          "output_type": "execute_result",
          "data": {
            "text/plain": [
              "array([[30.61726  ],\n",
              "       [39.085236 ],\n",
              "       [14.241635 ],\n",
              "       [23.591368 ],\n",
              "       [16.883574 ],\n",
              "       [25.448362 ],\n",
              "       [19.64858  ],\n",
              "       [15.498718 ],\n",
              "       [24.085646 ],\n",
              "       [19.662722 ],\n",
              "       [24.104616 ],\n",
              "       [22.327787 ],\n",
              "       [ 5.110456 ],\n",
              "       [24.435287 ],\n",
              "       [17.974081 ],\n",
              "       [24.058146 ],\n",
              "       [19.182735 ],\n",
              "       [11.612892 ],\n",
              "       [51.656452 ],\n",
              "       [13.273265 ],\n",
              "       [25.24     ],\n",
              "       [28.532175 ],\n",
              "       [11.006484 ],\n",
              "       [25.620607 ],\n",
              "       [17.373146 ],\n",
              "       [14.9025755],\n",
              "       [22.613817 ],\n",
              "       [12.884051 ],\n",
              "       [25.63399  ],\n",
              "       [19.420525 ],\n",
              "       [27.940952 ],\n",
              "       [27.548475 ],\n",
              "       [19.826406 ],\n",
              "       [25.822275 ],\n",
              "       [15.221795 ],\n",
              "       [21.032385 ],\n",
              "       [38.05675  ],\n",
              "       [18.805136 ],\n",
              "       [24.711796 ],\n",
              "       [23.782078 ],\n",
              "       [16.331846 ],\n",
              "       [31.008783 ],\n",
              "       [55.36011  ],\n",
              "       [19.317541 ],\n",
              "       [24.797506 ],\n",
              "       [14.086709 ],\n",
              "       [15.720429 ],\n",
              "       [25.259642 ],\n",
              "       [20.290003 ],\n",
              "       [29.271173 ],\n",
              "       [23.459059 ],\n",
              "       [41.439518 ],\n",
              "       [16.685446 ],\n",
              "       [28.30697  ],\n",
              "       [55.13271  ],\n",
              "       [22.23886  ],\n",
              "       [15.313597 ],\n",
              "       [37.73538  ],\n",
              "       [26.531229 ],\n",
              "       [12.81125  ],\n",
              "       [25.783072 ],\n",
              "       [37.837418 ],\n",
              "       [33.927414 ],\n",
              "       [14.95809  ],\n",
              "       [26.95267  ],\n",
              "       [26.311167 ],\n",
              "       [15.51826  ],\n",
              "       [25.789534 ],\n",
              "       [32.2459   ],\n",
              "       [17.702446 ],\n",
              "       [22.974657 ],\n",
              "       [25.219942 ],\n",
              "       [10.192355 ],\n",
              "       [21.199566 ],\n",
              "       [24.714657 ],\n",
              "       [ 5.4075947],\n",
              "       [19.675611 ],\n",
              "       [52.19733  ],\n",
              "       [12.181586 ],\n",
              "       [ 8.655556 ],\n",
              "       [22.453184 ],\n",
              "       [11.182804 ],\n",
              "       [20.94071  ],\n",
              "       [12.376679 ],\n",
              "       [22.95156  ],\n",
              "       [31.804247 ],\n",
              "       [16.100657 ],\n",
              "       [27.411177 ],\n",
              "       [25.065903 ],\n",
              "       [19.108612 ],\n",
              "       [23.875834 ],\n",
              "       [ 7.547172 ],\n",
              "       [19.12015  ],\n",
              "       [15.73564  ],\n",
              "       [30.538137 ],\n",
              "       [20.163488 ],\n",
              "       [28.431059 ],\n",
              "       [ 7.8939967],\n",
              "       [12.791503 ],\n",
              "       [12.610965 ],\n",
              "       [24.200369 ],\n",
              "       [23.808725 ],\n",
              "       [ 8.435195 ],\n",
              "       [18.651367 ],\n",
              "       [22.04729  ],\n",
              "       [ 9.195912 ],\n",
              "       [17.189325 ],\n",
              "       [25.696833 ],\n",
              "       [21.057524 ],\n",
              "       [26.640345 ],\n",
              "       [10.97648  ],\n",
              "       [14.742433 ],\n",
              "       [23.736004 ],\n",
              "       [28.457287 ],\n",
              "       [34.67458  ],\n",
              "       [14.216541 ],\n",
              "       [38.60117  ],\n",
              "       [14.180739 ],\n",
              "       [19.638987 ],\n",
              "       [29.131002 ],\n",
              "       [16.771118 ],\n",
              "       [26.669657 ],\n",
              "       [ 9.47984  ],\n",
              "       [20.622065 ],\n",
              "       [23.50555  ],\n",
              "       [21.772436 ],\n",
              "       [26.551767 ],\n",
              "       [36.305447 ],\n",
              "       [17.858011 ],\n",
              "       [53.2262   ],\n",
              "       [14.282036 ],\n",
              "       [25.79373  ],\n",
              "       [17.606314 ],\n",
              "       [17.73355  ],\n",
              "       [14.732343 ],\n",
              "       [17.674479 ],\n",
              "       [22.530512 ],\n",
              "       [33.66083  ],\n",
              "       [33.07001  ],\n",
              "       [16.642342 ],\n",
              "       [19.336184 ],\n",
              "       [27.259861 ],\n",
              "       [20.583675 ],\n",
              "       [24.83895  ],\n",
              "       [ 6.7758265],\n",
              "       [23.591574 ],\n",
              "       [15.56079  ],\n",
              "       [13.427564 ],\n",
              "       [13.493855 ],\n",
              "       [53.162315 ],\n",
              "       [15.747099 ],\n",
              "       [15.365603 ],\n",
              "       [26.379343 ],\n",
              "       [22.287867 ],\n",
              "       [19.987362 ],\n",
              "       [19.359383 ],\n",
              "       [16.511847 ],\n",
              "       [21.79677  ],\n",
              "       [37.936718 ],\n",
              "       [ 9.6055155],\n",
              "       [28.090712 ],\n",
              "       [18.409193 ],\n",
              "       [26.83071  ],\n",
              "       [26.47899  ],\n",
              "       [27.974995 ],\n",
              "       [20.76934  ],\n",
              "       [54.015743 ]], dtype=float32)"
            ]
          },
          "metadata": {
            "tags": []
          },
          "execution_count": 54
        }
      ]
    },
    {
      "cell_type": "code",
      "metadata": {
        "id": "ufKnTTQmvy3I",
        "colab_type": "code",
        "colab": {}
      },
      "source": [
        "# evaluate model with r2-scores\n",
        "ann_r2_score = r2_score(test_y, test_y_predict)"
      ],
      "execution_count": 55,
      "outputs": []
    },
    {
      "cell_type": "code",
      "metadata": {
        "id": "XZPW2ZROwIH6",
        "colab_type": "code",
        "colab": {
          "base_uri": "https://localhost:8080/",
          "height": 35
        },
        "outputId": "0300754a-e53e-4f1d-ade5-3ff7b9d13aa3"
      },
      "source": [
        "# the model performance for test set\n",
        "print('R2-score for ANN model is {}'.format(ann_r2_score))"
      ],
      "execution_count": 56,
      "outputs": [
        {
          "output_type": "stream",
          "text": [
            "R2-score for ANN model is 0.8046658182559397\n"
          ],
          "name": "stdout"
        }
      ]
    },
    {
      "cell_type": "markdown",
      "metadata": {
        "id": "phvfhLomHCxj",
        "colab_type": "text"
      },
      "source": [
        "#### model optimization"
      ]
    },
    {
      "cell_type": "code",
      "metadata": {
        "id": "xgHcvD-fHTDp",
        "colab_type": "code",
        "colab": {
          "base_uri": "https://localhost:8080/",
          "height": 1000
        },
        "outputId": "5831ffc1-bd8a-4b0a-b8c9-045a6cd3782e"
      },
      "source": [
        "# reduce one hidden layers and reduce one layer's nodes, add one dropout layers\n",
        "model = keras.Sequential([\n",
        "    keras.layers.Dense(64, activation='relu', input_shape=(13,)),\n",
        "    keras.layers.Dropout(0.2),\n",
        "    keras.layers.Dense(32, activation='relu'),\n",
        "    keras.layers.Dense(1)])\n",
        "\n",
        "model.compile(optimizer='adam',\n",
        "              loss='mse',\n",
        "              metrics=['mae'])\n",
        "\n",
        "model.fit(train_x, train_y, batch_size=10, epochs=200)"
      ],
      "execution_count": 57,
      "outputs": [
        {
          "output_type": "stream",
          "text": [
            "Epoch 1/200\n",
            "34/34 [==============================] - 0s 1ms/step - loss: 565.9201 - mae: 21.7988\n",
            "Epoch 2/200\n",
            "34/34 [==============================] - 0s 1ms/step - loss: 432.6886 - mae: 18.4938\n",
            "Epoch 3/200\n",
            "34/34 [==============================] - 0s 1ms/step - loss: 246.6945 - mae: 13.2017\n",
            "Epoch 4/200\n",
            "34/34 [==============================] - 0s 1ms/step - loss: 103.5360 - mae: 7.8536\n",
            "Epoch 5/200\n",
            "34/34 [==============================] - 0s 1ms/step - loss: 60.9432 - mae: 5.9005\n",
            "Epoch 6/200\n",
            "34/34 [==============================] - 0s 1ms/step - loss: 43.0894 - mae: 4.9395\n",
            "Epoch 7/200\n",
            "34/34 [==============================] - 0s 1ms/step - loss: 38.7276 - mae: 4.6433\n",
            "Epoch 8/200\n",
            "34/34 [==============================] - 0s 1ms/step - loss: 28.3423 - mae: 3.9582\n",
            "Epoch 9/200\n",
            "34/34 [==============================] - 0s 1ms/step - loss: 27.3161 - mae: 3.8415\n",
            "Epoch 10/200\n",
            "34/34 [==============================] - 0s 1ms/step - loss: 27.7958 - mae: 3.9493\n",
            "Epoch 11/200\n",
            "34/34 [==============================] - 0s 1ms/step - loss: 24.4196 - mae: 3.5849\n",
            "Epoch 12/200\n",
            "34/34 [==============================] - 0s 1ms/step - loss: 22.1913 - mae: 3.3442\n",
            "Epoch 13/200\n",
            "34/34 [==============================] - 0s 1ms/step - loss: 23.5367 - mae: 3.6771\n",
            "Epoch 14/200\n",
            "34/34 [==============================] - 0s 1ms/step - loss: 22.2117 - mae: 3.3643\n",
            "Epoch 15/200\n",
            "34/34 [==============================] - 0s 1ms/step - loss: 23.8086 - mae: 3.5522\n",
            "Epoch 16/200\n",
            "34/34 [==============================] - 0s 1ms/step - loss: 22.0782 - mae: 3.5161\n",
            "Epoch 17/200\n",
            "34/34 [==============================] - 0s 1ms/step - loss: 20.2776 - mae: 3.2062\n",
            "Epoch 18/200\n",
            "34/34 [==============================] - 0s 1ms/step - loss: 21.2192 - mae: 3.3888\n",
            "Epoch 19/200\n",
            "34/34 [==============================] - 0s 1ms/step - loss: 17.9936 - mae: 3.1338\n",
            "Epoch 20/200\n",
            "34/34 [==============================] - 0s 1ms/step - loss: 17.6801 - mae: 3.1060\n",
            "Epoch 21/200\n",
            "34/34 [==============================] - 0s 1ms/step - loss: 19.0734 - mae: 3.2372\n",
            "Epoch 22/200\n",
            "34/34 [==============================] - 0s 1ms/step - loss: 17.9778 - mae: 3.1256\n",
            "Epoch 23/200\n",
            "34/34 [==============================] - 0s 1ms/step - loss: 18.6780 - mae: 3.1244\n",
            "Epoch 24/200\n",
            "34/34 [==============================] - 0s 1ms/step - loss: 17.8637 - mae: 3.0846\n",
            "Epoch 25/200\n",
            "34/34 [==============================] - 0s 1ms/step - loss: 18.8149 - mae: 3.2561\n",
            "Epoch 26/200\n",
            "34/34 [==============================] - 0s 1ms/step - loss: 18.5046 - mae: 3.1017\n",
            "Epoch 27/200\n",
            "34/34 [==============================] - 0s 1ms/step - loss: 17.8608 - mae: 3.1806\n",
            "Epoch 28/200\n",
            "34/34 [==============================] - 0s 1ms/step - loss: 16.4806 - mae: 2.9956\n",
            "Epoch 29/200\n",
            "34/34 [==============================] - 0s 1ms/step - loss: 18.8230 - mae: 3.2301\n",
            "Epoch 30/200\n",
            "34/34 [==============================] - 0s 1ms/step - loss: 17.6509 - mae: 3.0700\n",
            "Epoch 31/200\n",
            "34/34 [==============================] - 0s 1ms/step - loss: 19.5589 - mae: 3.2860\n",
            "Epoch 32/200\n",
            "34/34 [==============================] - 0s 1ms/step - loss: 16.8506 - mae: 3.0756\n",
            "Epoch 33/200\n",
            "34/34 [==============================] - 0s 1ms/step - loss: 17.5959 - mae: 3.1609\n",
            "Epoch 34/200\n",
            "34/34 [==============================] - 0s 1ms/step - loss: 17.7976 - mae: 3.0753\n",
            "Epoch 35/200\n",
            "34/34 [==============================] - 0s 1ms/step - loss: 16.8949 - mae: 3.0005\n",
            "Epoch 36/200\n",
            "34/34 [==============================] - 0s 1ms/step - loss: 15.8459 - mae: 2.9264\n",
            "Epoch 37/200\n",
            "34/34 [==============================] - 0s 1ms/step - loss: 15.4833 - mae: 3.0084\n",
            "Epoch 38/200\n",
            "34/34 [==============================] - 0s 1ms/step - loss: 17.7383 - mae: 3.0439\n",
            "Epoch 39/200\n",
            "34/34 [==============================] - 0s 1ms/step - loss: 14.9809 - mae: 2.9142\n",
            "Epoch 40/200\n",
            "34/34 [==============================] - 0s 1ms/step - loss: 15.2768 - mae: 2.8774\n",
            "Epoch 41/200\n",
            "34/34 [==============================] - 0s 1ms/step - loss: 15.9131 - mae: 2.9331\n",
            "Epoch 42/200\n",
            "34/34 [==============================] - 0s 1ms/step - loss: 14.7970 - mae: 2.8404\n",
            "Epoch 43/200\n",
            "34/34 [==============================] - 0s 1ms/step - loss: 14.2760 - mae: 2.7749\n",
            "Epoch 44/200\n",
            "34/34 [==============================] - 0s 1ms/step - loss: 15.0967 - mae: 2.8212\n",
            "Epoch 45/200\n",
            "34/34 [==============================] - 0s 1ms/step - loss: 15.9209 - mae: 2.9726\n",
            "Epoch 46/200\n",
            "34/34 [==============================] - 0s 1ms/step - loss: 14.9074 - mae: 2.8538\n",
            "Epoch 47/200\n",
            "34/34 [==============================] - 0s 1ms/step - loss: 16.5067 - mae: 2.9639\n",
            "Epoch 48/200\n",
            "34/34 [==============================] - 0s 1ms/step - loss: 14.1259 - mae: 2.8136\n",
            "Epoch 49/200\n",
            "34/34 [==============================] - 0s 1ms/step - loss: 15.0819 - mae: 2.8177\n",
            "Epoch 50/200\n",
            "34/34 [==============================] - 0s 1ms/step - loss: 14.2667 - mae: 2.9251\n",
            "Epoch 51/200\n",
            "34/34 [==============================] - 0s 1ms/step - loss: 14.2523 - mae: 2.8986\n",
            "Epoch 52/200\n",
            "34/34 [==============================] - 0s 1ms/step - loss: 12.0047 - mae: 2.6255\n",
            "Epoch 53/200\n",
            "34/34 [==============================] - 0s 1ms/step - loss: 12.5449 - mae: 2.7692\n",
            "Epoch 54/200\n",
            "34/34 [==============================] - 0s 1ms/step - loss: 12.4180 - mae: 2.6855\n",
            "Epoch 55/200\n",
            "34/34 [==============================] - 0s 1ms/step - loss: 14.9172 - mae: 2.8812\n",
            "Epoch 56/200\n",
            "34/34 [==============================] - 0s 1ms/step - loss: 14.3714 - mae: 2.8228\n",
            "Epoch 57/200\n",
            "34/34 [==============================] - 0s 1ms/step - loss: 12.8258 - mae: 2.8041\n",
            "Epoch 58/200\n",
            "34/34 [==============================] - 0s 1ms/step - loss: 15.2342 - mae: 2.8093\n",
            "Epoch 59/200\n",
            "34/34 [==============================] - 0s 1ms/step - loss: 11.9800 - mae: 2.6066\n",
            "Epoch 60/200\n",
            "34/34 [==============================] - 0s 1ms/step - loss: 12.4756 - mae: 2.6373\n",
            "Epoch 61/200\n",
            "34/34 [==============================] - 0s 1ms/step - loss: 13.3484 - mae: 2.7588\n",
            "Epoch 62/200\n",
            "34/34 [==============================] - 0s 1ms/step - loss: 14.0790 - mae: 2.8575\n",
            "Epoch 63/200\n",
            "34/34 [==============================] - 0s 1ms/step - loss: 12.9759 - mae: 2.7480\n",
            "Epoch 64/200\n",
            "34/34 [==============================] - 0s 1ms/step - loss: 12.1238 - mae: 2.6639\n",
            "Epoch 65/200\n",
            "34/34 [==============================] - 0s 1ms/step - loss: 12.5597 - mae: 2.7114\n",
            "Epoch 66/200\n",
            "34/34 [==============================] - 0s 1ms/step - loss: 12.4584 - mae: 2.6165\n",
            "Epoch 67/200\n",
            "34/34 [==============================] - 0s 1ms/step - loss: 13.3488 - mae: 2.7476\n",
            "Epoch 68/200\n",
            "34/34 [==============================] - 0s 1ms/step - loss: 12.1489 - mae: 2.6321\n",
            "Epoch 69/200\n",
            "34/34 [==============================] - 0s 1ms/step - loss: 13.2078 - mae: 2.7938\n",
            "Epoch 70/200\n",
            "34/34 [==============================] - 0s 1ms/step - loss: 13.9996 - mae: 2.8196\n",
            "Epoch 71/200\n",
            "34/34 [==============================] - 0s 1ms/step - loss: 10.6032 - mae: 2.5012\n",
            "Epoch 72/200\n",
            "34/34 [==============================] - 0s 1ms/step - loss: 11.3627 - mae: 2.5577\n",
            "Epoch 73/200\n",
            "34/34 [==============================] - 0s 1ms/step - loss: 11.1945 - mae: 2.5738\n",
            "Epoch 74/200\n",
            "34/34 [==============================] - 0s 1ms/step - loss: 14.0811 - mae: 2.7565\n",
            "Epoch 75/200\n",
            "34/34 [==============================] - 0s 1ms/step - loss: 11.4259 - mae: 2.5313\n",
            "Epoch 76/200\n",
            "34/34 [==============================] - 0s 1ms/step - loss: 12.7436 - mae: 2.6726\n",
            "Epoch 77/200\n",
            "34/34 [==============================] - 0s 1ms/step - loss: 11.5275 - mae: 2.6065\n",
            "Epoch 78/200\n",
            "34/34 [==============================] - 0s 1ms/step - loss: 12.9127 - mae: 2.7199\n",
            "Epoch 79/200\n",
            "34/34 [==============================] - 0s 1ms/step - loss: 10.4440 - mae: 2.4840\n",
            "Epoch 80/200\n",
            "34/34 [==============================] - 0s 1ms/step - loss: 12.4028 - mae: 2.7482\n",
            "Epoch 81/200\n",
            "34/34 [==============================] - 0s 1ms/step - loss: 12.6269 - mae: 2.7107\n",
            "Epoch 82/200\n",
            "34/34 [==============================] - 0s 1ms/step - loss: 13.2878 - mae: 2.6278\n",
            "Epoch 83/200\n",
            "34/34 [==============================] - 0s 1ms/step - loss: 12.2823 - mae: 2.6975\n",
            "Epoch 84/200\n",
            "34/34 [==============================] - 0s 1ms/step - loss: 11.3879 - mae: 2.5557\n",
            "Epoch 85/200\n",
            "34/34 [==============================] - 0s 1ms/step - loss: 10.9967 - mae: 2.5445\n",
            "Epoch 86/200\n",
            "34/34 [==============================] - 0s 1ms/step - loss: 10.7231 - mae: 2.5488\n",
            "Epoch 87/200\n",
            "34/34 [==============================] - 0s 1ms/step - loss: 12.8484 - mae: 2.6155\n",
            "Epoch 88/200\n",
            "34/34 [==============================] - 0s 1ms/step - loss: 11.3021 - mae: 2.5140\n",
            "Epoch 89/200\n",
            "34/34 [==============================] - 0s 1ms/step - loss: 12.1227 - mae: 2.6397\n",
            "Epoch 90/200\n",
            "34/34 [==============================] - 0s 1ms/step - loss: 10.1183 - mae: 2.4341\n",
            "Epoch 91/200\n",
            "34/34 [==============================] - 0s 1ms/step - loss: 10.9870 - mae: 2.4467\n",
            "Epoch 92/200\n",
            "34/34 [==============================] - 0s 1ms/step - loss: 11.1207 - mae: 2.5355\n",
            "Epoch 93/200\n",
            "34/34 [==============================] - 0s 1ms/step - loss: 10.3084 - mae: 2.4508\n",
            "Epoch 94/200\n",
            "34/34 [==============================] - 0s 1ms/step - loss: 11.8767 - mae: 2.7002\n",
            "Epoch 95/200\n",
            "34/34 [==============================] - 0s 1ms/step - loss: 13.0371 - mae: 2.6298\n",
            "Epoch 96/200\n",
            "34/34 [==============================] - 0s 1ms/step - loss: 9.4903 - mae: 2.3529\n",
            "Epoch 97/200\n",
            "34/34 [==============================] - 0s 1ms/step - loss: 12.2161 - mae: 2.6561\n",
            "Epoch 98/200\n",
            "34/34 [==============================] - 0s 1ms/step - loss: 10.1900 - mae: 2.4250\n",
            "Epoch 99/200\n",
            "34/34 [==============================] - 0s 1ms/step - loss: 11.5360 - mae: 2.5778\n",
            "Epoch 100/200\n",
            "34/34 [==============================] - 0s 1ms/step - loss: 9.5166 - mae: 2.4080\n",
            "Epoch 101/200\n",
            "34/34 [==============================] - 0s 1ms/step - loss: 10.1523 - mae: 2.4545\n",
            "Epoch 102/200\n",
            "34/34 [==============================] - 0s 1ms/step - loss: 10.3771 - mae: 2.4447\n",
            "Epoch 103/200\n",
            "34/34 [==============================] - 0s 1ms/step - loss: 9.2052 - mae: 2.2837\n",
            "Epoch 104/200\n",
            "34/34 [==============================] - 0s 1ms/step - loss: 9.3878 - mae: 2.3781\n",
            "Epoch 105/200\n",
            "34/34 [==============================] - 0s 1ms/step - loss: 10.6811 - mae: 2.4465\n",
            "Epoch 106/200\n",
            "34/34 [==============================] - 0s 1ms/step - loss: 10.2656 - mae: 2.4486\n",
            "Epoch 107/200\n",
            "34/34 [==============================] - 0s 1ms/step - loss: 12.3232 - mae: 2.7236\n",
            "Epoch 108/200\n",
            "34/34 [==============================] - 0s 1ms/step - loss: 10.6959 - mae: 2.4954\n",
            "Epoch 109/200\n",
            "34/34 [==============================] - 0s 1ms/step - loss: 10.5081 - mae: 2.4773\n",
            "Epoch 110/200\n",
            "34/34 [==============================] - 0s 1ms/step - loss: 9.3254 - mae: 2.2930\n",
            "Epoch 111/200\n",
            "34/34 [==============================] - 0s 1ms/step - loss: 11.5307 - mae: 2.6369\n",
            "Epoch 112/200\n",
            "34/34 [==============================] - 0s 1ms/step - loss: 9.2690 - mae: 2.3202\n",
            "Epoch 113/200\n",
            "34/34 [==============================] - 0s 1ms/step - loss: 10.1999 - mae: 2.3907\n",
            "Epoch 114/200\n",
            "34/34 [==============================] - 0s 1ms/step - loss: 9.0216 - mae: 2.2636\n",
            "Epoch 115/200\n",
            "34/34 [==============================] - 0s 1ms/step - loss: 8.1482 - mae: 2.2499\n",
            "Epoch 116/200\n",
            "34/34 [==============================] - 0s 1ms/step - loss: 9.9928 - mae: 2.3358\n",
            "Epoch 117/200\n",
            "34/34 [==============================] - 0s 1ms/step - loss: 9.9280 - mae: 2.4113\n",
            "Epoch 118/200\n",
            "34/34 [==============================] - 0s 1ms/step - loss: 9.4958 - mae: 2.3173\n",
            "Epoch 119/200\n",
            "34/34 [==============================] - 0s 1ms/step - loss: 9.0305 - mae: 2.3517\n",
            "Epoch 120/200\n",
            "34/34 [==============================] - 0s 1ms/step - loss: 9.3986 - mae: 2.3618\n",
            "Epoch 121/200\n",
            "34/34 [==============================] - 0s 1ms/step - loss: 9.8362 - mae: 2.4061\n",
            "Epoch 122/200\n",
            "34/34 [==============================] - 0s 1ms/step - loss: 9.3046 - mae: 2.3057\n",
            "Epoch 123/200\n",
            "34/34 [==============================] - 0s 1ms/step - loss: 10.5139 - mae: 2.5147\n",
            "Epoch 124/200\n",
            "34/34 [==============================] - 0s 1ms/step - loss: 9.5649 - mae: 2.3283\n",
            "Epoch 125/200\n",
            "34/34 [==============================] - 0s 1ms/step - loss: 8.3100 - mae: 2.2458\n",
            "Epoch 126/200\n",
            "34/34 [==============================] - 0s 1ms/step - loss: 9.7095 - mae: 2.4360\n",
            "Epoch 127/200\n",
            "34/34 [==============================] - 0s 1ms/step - loss: 9.4819 - mae: 2.2888\n",
            "Epoch 128/200\n",
            "34/34 [==============================] - 0s 1ms/step - loss: 8.8902 - mae: 2.2881\n",
            "Epoch 129/200\n",
            "34/34 [==============================] - 0s 1ms/step - loss: 10.1085 - mae: 2.4184\n",
            "Epoch 130/200\n",
            "34/34 [==============================] - 0s 1ms/step - loss: 9.2289 - mae: 2.3359\n",
            "Epoch 131/200\n",
            "34/34 [==============================] - 0s 1ms/step - loss: 10.2888 - mae: 2.4678\n",
            "Epoch 132/200\n",
            "34/34 [==============================] - 0s 1ms/step - loss: 9.3588 - mae: 2.2367\n",
            "Epoch 133/200\n",
            "34/34 [==============================] - 0s 1ms/step - loss: 9.9159 - mae: 2.3629\n",
            "Epoch 134/200\n",
            "34/34 [==============================] - 0s 1ms/step - loss: 9.8639 - mae: 2.3219\n",
            "Epoch 135/200\n",
            "34/34 [==============================] - 0s 1ms/step - loss: 10.0755 - mae: 2.4460\n",
            "Epoch 136/200\n",
            "34/34 [==============================] - 0s 1ms/step - loss: 8.4606 - mae: 2.2576\n",
            "Epoch 137/200\n",
            "34/34 [==============================] - 0s 1ms/step - loss: 8.5549 - mae: 2.2995\n",
            "Epoch 138/200\n",
            "34/34 [==============================] - 0s 1ms/step - loss: 8.6013 - mae: 2.2372\n",
            "Epoch 139/200\n",
            "34/34 [==============================] - 0s 1ms/step - loss: 8.8837 - mae: 2.1833\n",
            "Epoch 140/200\n",
            "34/34 [==============================] - 0s 1ms/step - loss: 9.0769 - mae: 2.2680\n",
            "Epoch 141/200\n",
            "34/34 [==============================] - 0s 1ms/step - loss: 8.8864 - mae: 2.2730\n",
            "Epoch 142/200\n",
            "34/34 [==============================] - 0s 1ms/step - loss: 8.9873 - mae: 2.2570\n",
            "Epoch 143/200\n",
            "34/34 [==============================] - 0s 1ms/step - loss: 8.3400 - mae: 2.2340\n",
            "Epoch 144/200\n",
            "34/34 [==============================] - 0s 1ms/step - loss: 9.5336 - mae: 2.3405\n",
            "Epoch 145/200\n",
            "34/34 [==============================] - 0s 1ms/step - loss: 6.7541 - mae: 1.9931\n",
            "Epoch 146/200\n",
            "34/34 [==============================] - 0s 1ms/step - loss: 8.7905 - mae: 2.2828\n",
            "Epoch 147/200\n",
            "34/34 [==============================] - 0s 1ms/step - loss: 8.6325 - mae: 2.2539\n",
            "Epoch 148/200\n",
            "34/34 [==============================] - 0s 1ms/step - loss: 8.1166 - mae: 2.2579\n",
            "Epoch 149/200\n",
            "34/34 [==============================] - 0s 1ms/step - loss: 9.0778 - mae: 2.2613\n",
            "Epoch 150/200\n",
            "34/34 [==============================] - 0s 1ms/step - loss: 8.7021 - mae: 2.2486\n",
            "Epoch 151/200\n",
            "34/34 [==============================] - 0s 1ms/step - loss: 8.3004 - mae: 2.1563\n",
            "Epoch 152/200\n",
            "34/34 [==============================] - 0s 1ms/step - loss: 9.8243 - mae: 2.4164\n",
            "Epoch 153/200\n",
            "34/34 [==============================] - 0s 1ms/step - loss: 9.2031 - mae: 2.3527\n",
            "Epoch 154/200\n",
            "34/34 [==============================] - 0s 1ms/step - loss: 7.5083 - mae: 2.0641\n",
            "Epoch 155/200\n",
            "34/34 [==============================] - 0s 1ms/step - loss: 8.6296 - mae: 2.2612\n",
            "Epoch 156/200\n",
            "34/34 [==============================] - 0s 1ms/step - loss: 9.8069 - mae: 2.3995\n",
            "Epoch 157/200\n",
            "34/34 [==============================] - 0s 1ms/step - loss: 8.1742 - mae: 2.1937\n",
            "Epoch 158/200\n",
            "34/34 [==============================] - 0s 1ms/step - loss: 9.1640 - mae: 2.3164\n",
            "Epoch 159/200\n",
            "34/34 [==============================] - 0s 1ms/step - loss: 9.1678 - mae: 2.3387\n",
            "Epoch 160/200\n",
            "34/34 [==============================] - 0s 1ms/step - loss: 9.0555 - mae: 2.1916\n",
            "Epoch 161/200\n",
            "34/34 [==============================] - 0s 1ms/step - loss: 9.4660 - mae: 2.3547\n",
            "Epoch 162/200\n",
            "34/34 [==============================] - 0s 1ms/step - loss: 8.0228 - mae: 2.1061\n",
            "Epoch 163/200\n",
            "34/34 [==============================] - 0s 1ms/step - loss: 9.0970 - mae: 2.2490\n",
            "Epoch 164/200\n",
            "34/34 [==============================] - 0s 1ms/step - loss: 9.6961 - mae: 2.3354\n",
            "Epoch 165/200\n",
            "34/34 [==============================] - 0s 1ms/step - loss: 9.3492 - mae: 2.2903\n",
            "Epoch 166/200\n",
            "34/34 [==============================] - 0s 1ms/step - loss: 8.2971 - mae: 2.1603\n",
            "Epoch 167/200\n",
            "34/34 [==============================] - 0s 1ms/step - loss: 9.6291 - mae: 2.2735\n",
            "Epoch 168/200\n",
            "34/34 [==============================] - 0s 1ms/step - loss: 8.1030 - mae: 2.1639\n",
            "Epoch 169/200\n",
            "34/34 [==============================] - 0s 1ms/step - loss: 7.4997 - mae: 2.0938\n",
            "Epoch 170/200\n",
            "34/34 [==============================] - 0s 1ms/step - loss: 8.3167 - mae: 2.1646\n",
            "Epoch 171/200\n",
            "34/34 [==============================] - 0s 1ms/step - loss: 8.6003 - mae: 2.2536\n",
            "Epoch 172/200\n",
            "34/34 [==============================] - 0s 1ms/step - loss: 9.2827 - mae: 2.3296\n",
            "Epoch 173/200\n",
            "34/34 [==============================] - 0s 1ms/step - loss: 9.0245 - mae: 2.3319\n",
            "Epoch 174/200\n",
            "34/34 [==============================] - 0s 1ms/step - loss: 8.6196 - mae: 2.1281\n",
            "Epoch 175/200\n",
            "34/34 [==============================] - 0s 1ms/step - loss: 7.1988 - mae: 2.1054\n",
            "Epoch 176/200\n",
            "34/34 [==============================] - 0s 1ms/step - loss: 7.7816 - mae: 2.0621\n",
            "Epoch 177/200\n",
            "34/34 [==============================] - 0s 1ms/step - loss: 8.5860 - mae: 2.1969\n",
            "Epoch 178/200\n",
            "34/34 [==============================] - 0s 1ms/step - loss: 8.0187 - mae: 2.1330\n",
            "Epoch 179/200\n",
            "34/34 [==============================] - 0s 1ms/step - loss: 9.1798 - mae: 2.1539\n",
            "Epoch 180/200\n",
            "34/34 [==============================] - 0s 1ms/step - loss: 7.4679 - mae: 2.1604\n",
            "Epoch 181/200\n",
            "34/34 [==============================] - 0s 1ms/step - loss: 7.3549 - mae: 2.0710\n",
            "Epoch 182/200\n",
            "34/34 [==============================] - 0s 1ms/step - loss: 8.3668 - mae: 2.1931\n",
            "Epoch 183/200\n",
            "34/34 [==============================] - 0s 1ms/step - loss: 7.7396 - mae: 2.1221\n",
            "Epoch 184/200\n",
            "34/34 [==============================] - 0s 1ms/step - loss: 8.1136 - mae: 2.1122\n",
            "Epoch 185/200\n",
            "34/34 [==============================] - 0s 1ms/step - loss: 7.0230 - mae: 2.0343\n",
            "Epoch 186/200\n",
            "34/34 [==============================] - 0s 1ms/step - loss: 7.2452 - mae: 2.0862\n",
            "Epoch 187/200\n",
            "34/34 [==============================] - 0s 1ms/step - loss: 8.1122 - mae: 2.0848\n",
            "Epoch 188/200\n",
            "34/34 [==============================] - 0s 1ms/step - loss: 8.1325 - mae: 2.0950\n",
            "Epoch 189/200\n",
            "34/34 [==============================] - 0s 1ms/step - loss: 7.5087 - mae: 2.1652\n",
            "Epoch 190/200\n",
            "34/34 [==============================] - 0s 1ms/step - loss: 7.9885 - mae: 2.1854\n",
            "Epoch 191/200\n",
            "34/34 [==============================] - 0s 1ms/step - loss: 7.3456 - mae: 2.0923\n",
            "Epoch 192/200\n",
            "34/34 [==============================] - 0s 1ms/step - loss: 8.5040 - mae: 2.2335\n",
            "Epoch 193/200\n",
            "34/34 [==============================] - 0s 1ms/step - loss: 7.8875 - mae: 2.1310\n",
            "Epoch 194/200\n",
            "34/34 [==============================] - 0s 1ms/step - loss: 7.4856 - mae: 2.1197\n",
            "Epoch 195/200\n",
            "34/34 [==============================] - 0s 1ms/step - loss: 7.3530 - mae: 2.0756\n",
            "Epoch 196/200\n",
            "34/34 [==============================] - 0s 1ms/step - loss: 7.2336 - mae: 2.0480\n",
            "Epoch 197/200\n",
            "34/34 [==============================] - 0s 1ms/step - loss: 7.8523 - mae: 2.0831\n",
            "Epoch 198/200\n",
            "34/34 [==============================] - 0s 1ms/step - loss: 6.7969 - mae: 1.9503\n",
            "Epoch 199/200\n",
            "34/34 [==============================] - 0s 1ms/step - loss: 7.6689 - mae: 2.0736\n",
            "Epoch 200/200\n",
            "34/34 [==============================] - 0s 1ms/step - loss: 7.4730 - mae: 2.0599\n"
          ],
          "name": "stdout"
        },
        {
          "output_type": "execute_result",
          "data": {
            "text/plain": [
              "<tensorflow.python.keras.callbacks.History at 0x7f793c3c9550>"
            ]
          },
          "metadata": {
            "tags": []
          },
          "execution_count": 57
        }
      ]
    },
    {
      "cell_type": "code",
      "metadata": {
        "id": "xH-rfxCrKkhE",
        "colab_type": "code",
        "colab": {
          "base_uri": "https://localhost:8080/",
          "height": 35
        },
        "outputId": "58e8a81f-25ff-4eaf-e478-0207ed82d490"
      },
      "source": [
        "# predict test_y\n",
        "test_y_predict = model.predict(test_x)\n",
        "\n",
        "# evaluate model with r2-scores\n",
        "ann_r2_score = r2_score(test_y, test_y_predict)\n",
        "\n",
        "# the model performance for test set\n",
        "print('R2-score for ANN model is {}'.format(ann_r2_score))"
      ],
      "execution_count": 58,
      "outputs": [
        {
          "output_type": "stream",
          "text": [
            "R2-score for ANN model is 0.8580965890916522\n"
          ],
          "name": "stdout"
        }
      ]
    },
    {
      "cell_type": "markdown",
      "metadata": {
        "id": "zxwomzXDwh7K",
        "colab_type": "text"
      },
      "source": [
        "### Model visualization"
      ]
    },
    {
      "cell_type": "code",
      "metadata": {
        "id": "aShK5WZXw6dP",
        "colab_type": "code",
        "colab": {
          "base_uri": "https://localhost:8080/",
          "height": 306
        },
        "outputId": "b42ab499-ad2d-4664-db22-3c1e8d36879a"
      },
      "source": [
        "# set figure size\n",
        "plt.figure(figsize=(8, 4), dpi=80)\n",
        "plt.plot(range(len(test_y)), test_y, ls='solid', lw=2, c='r', label='real price')\n",
        "plt.plot(range(len(test_y_predict)), test_y_predict, ls='dotted', lw=2, c='g', label='predict price')\n",
        "\n",
        "# plot grid\n",
        "plt.grid(alpha=0.4, linestyle=':')\n",
        "plt.legend()\n",
        "plt.xlabel('number')\n",
        "plt.ylabel('house price')\n",
        "plt.show()"
      ],
      "execution_count": 59,
      "outputs": [
        {
          "output_type": "display_data",
          "data": {
            "image/png": "[encoded data removed]",
            "text/plain": [
              "<Figure size 640x320 with 1 Axes>"
            ]
          },
          "metadata": {
            "tags": [],
            "needs_background": "light"
          }
        }
      ]
    },
    {
      "cell_type": "markdown",
      "metadata": {
        "id": "1RrXPJGW0cEn",
        "colab_type": "text"
      },
      "source": [
        "# Summary"
      ]
    },
    {
      "cell_type": "markdown",
      "metadata": {
        "id": "AGee34wpLP-v",
        "colab_type": "text"
      },
      "source": [
        "The practice above shows Linear Regression model and ANN model both perform quite good on explain Boston House Price, although they also need improvement.\n",
        "\n",
        "ANN model performs slightly better than Linear Regression if considering the R2 scores. But more assessment methods should also involves to support the conclusion.\n",
        "\n",
        "In ANN model, hidden layers, dropout layers and nodes changes all will affect the performance of the model."
      ]
    }
  ]
}